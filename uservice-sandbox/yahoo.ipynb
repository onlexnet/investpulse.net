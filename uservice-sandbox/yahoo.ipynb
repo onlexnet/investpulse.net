{
 "cells": [
  {
   "cell_type": "code",
   "execution_count": 5,
   "metadata": {},
   "outputs": [
    {
     "data": {
      "text/html": [
       "<div>\n",
       "<style scoped>\n",
       "    .dataframe tbody tr th:only-of-type {\n",
       "        vertical-align: middle;\n",
       "    }\n",
       "\n",
       "    .dataframe tbody tr th {\n",
       "        vertical-align: top;\n",
       "    }\n",
       "\n",
       "    .dataframe thead th {\n",
       "        text-align: right;\n",
       "    }\n",
       "</style>\n",
       "<table border=\"1\" class=\"dataframe\">\n",
       "  <thead>\n",
       "    <tr style=\"text-align: right;\">\n",
       "      <th></th>\n",
       "      <th>period</th>\n",
       "      <th>strongBuy</th>\n",
       "      <th>buy</th>\n",
       "      <th>hold</th>\n",
       "      <th>sell</th>\n",
       "      <th>strongSell</th>\n",
       "    </tr>\n",
       "  </thead>\n",
       "  <tbody>\n",
       "    <tr>\n",
       "      <th>3</th>\n",
       "      <td>-3m</td>\n",
       "      <td>20</td>\n",
       "      <td>27</td>\n",
       "      <td>6</td>\n",
       "      <td>0</td>\n",
       "      <td>0</td>\n",
       "    </tr>\n",
       "  </tbody>\n",
       "</table>\n",
       "</div>"
      ],
      "text/plain": [
       "  period  strongBuy  buy  hold  sell  strongSell\n",
       "3    -3m         20   27     6     0           0"
      ]
     },
     "execution_count": 5,
     "metadata": {},
     "output_type": "execute_result"
    }
   ],
   "source": [
    "import yfinance as yf\n",
    "\n",
    "msft = yf.Ticker(\"MSFT\")\n",
    "msft.recommendations\n",
    "msft.recommendations[-1:]\n"
   ]
  },
  {
   "cell_type": "code",
   "execution_count": null,
   "metadata": {},
   "outputs": [],
   "source": [
    "# # get all stock info\n",
    "# msft.info\n",
    "\n",
    "# # get historical market data\n",
    "# hist = msft.history(period=\"1mo\")\n",
    "\n",
    "# # show meta information about the history (requires history() to be called first)\n",
    "# msft.history_metadata\n",
    "\n",
    "# # show actions (dividends, splits, capital gains)\n",
    "# msft.actions\n",
    "# msft.dividends\n",
    "# msft.splits\n",
    "# msft.capital_gains  # only for mutual funds & etfs\n",
    "\n",
    "# # show share count\n",
    "# msft.get_shares_full(start=\"2022-01-01\", end=None)\n",
    "\n",
    "# # show financials:\n",
    "# # - income statement\n",
    "# msft.income_stmt\n",
    "# msft.quarterly_income_stmt\n",
    "# # - balance sheet\n",
    "# msft.balance_sheet\n",
    "# msft.quarterly_balance_sheet\n",
    "# # - cash flow statement\n",
    "# msft.cashflow\n",
    "# msft.quarterly_cashflow\n",
    "# # see `Ticker.get_income_stmt()` for more options\n",
    "\n",
    "# # show holders\n",
    "# msft.major_holders\n",
    "# msft.institutional_holders\n",
    "# msft.mutualfund_holders\n",
    "# msft.insider_transactions\n",
    "# msft.insider_purchases\n",
    "# msft.insider_roster_holders\n",
    "\n",
    "# # show recommendations\n",
    "# msft.recommendations\n",
    "# msft.recommendations_summary\n",
    "# msft.upgrades_downgrades\n",
    "\n",
    "# # Show future and historic earnings dates, returns at most next 4 quarters and last 8 quarters by default. \n",
    "# # Note: If more are needed use msft.get_earnings_dates(limit=XX) with increased limit argument.\n",
    "# msft.earnings_dates\n",
    "\n",
    "# # show ISIN code - *experimental*\n",
    "# # ISIN = International Securities Identification Number\n",
    "# msft.isin\n",
    "\n",
    "# # show options expirations\n",
    "# msft.options\n",
    "\n",
    "# # show news\n",
    "# msft.news\n",
    "\n",
    "# # get option chain for specific expiration\n",
    "# opt = msft.option_chain('YYYY-MM-DD')\n",
    "# # data available via: opt.calls, opt.puts"
   ]
  }
 ],
 "metadata": {
  "kernelspec": {
   "display_name": ".venv",
   "language": "python",
   "name": "python3"
  },
  "language_info": {
   "codemirror_mode": {
    "name": "ipython",
    "version": 3
   },
   "file_extension": ".py",
   "mimetype": "text/x-python",
   "name": "python",
   "nbconvert_exporter": "python",
   "pygments_lexer": "ipython3",
   "version": "3.11.8"
  }
 },
 "nbformat": 4,
 "nbformat_minor": 2
}
